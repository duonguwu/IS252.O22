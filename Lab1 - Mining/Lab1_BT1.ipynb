{
 "cells": [
  {
   "cell_type": "markdown",
   "id": "4e90cc18-b203-4de0-b679-fddcdcba7877",
   "metadata": {},
   "source": [
    "## Nguyễn Dương - 21521990"
   ]
  },
  {
   "cell_type": "markdown",
   "id": "cf2eb5dd-02b3-4e59-b097-7914fbf90af5",
   "metadata": {},
   "source": [
    "### Import thư viện"
   ]
  },
  {
   "cell_type": "code",
   "execution_count": 12,
   "id": "5e92adc6-52cd-49fe-b62f-cced3e87dd30",
   "metadata": {},
   "outputs": [],
   "source": [
    "import numpy as np\n",
    "import pandas as pd\n",
    "\n",
    "import seaborn as sns\n",
    "%matplotlib inline\n",
    "from matplotlib import pyplot as plt\n",
    "from matplotlib import style\n",
    "import warnings\n",
    "warnings.filterwarnings('ignore')"
   ]
  },
  {
   "cell_type": "markdown",
   "id": "9d1af426-006f-48c9-9fab-9b48d5fb9783",
   "metadata": {},
   "source": [
    "### Nhập và đọc dữ liệu"
   ]
  },
  {
   "cell_type": "code",
   "execution_count": 2,
   "id": "487f8566-25ce-4d57-a74a-171a63a242b0",
   "metadata": {},
   "outputs": [],
   "source": [
    "df = pd.read_csv(\"titanic.csv\")"
   ]
  },
  {
   "cell_type": "code",
   "execution_count": 3,
   "id": "854e3185-557b-444b-bf8a-59712a557031",
   "metadata": {},
   "outputs": [
    {
     "data": {
      "text/html": [
       "<div>\n",
       "<style scoped>\n",
       "    .dataframe tbody tr th:only-of-type {\n",
       "        vertical-align: middle;\n",
       "    }\n",
       "\n",
       "    .dataframe tbody tr th {\n",
       "        vertical-align: top;\n",
       "    }\n",
       "\n",
       "    .dataframe thead th {\n",
       "        text-align: right;\n",
       "    }\n",
       "</style>\n",
       "<table border=\"1\" class=\"dataframe\">\n",
       "  <thead>\n",
       "    <tr style=\"text-align: right;\">\n",
       "      <th></th>\n",
       "      <th>pclass</th>\n",
       "      <th>survived</th>\n",
       "      <th>name</th>\n",
       "      <th>sex</th>\n",
       "      <th>age</th>\n",
       "      <th>sibsp</th>\n",
       "      <th>parch</th>\n",
       "      <th>ticket</th>\n",
       "      <th>fare</th>\n",
       "      <th>cabin</th>\n",
       "      <th>embarked</th>\n",
       "      <th>boat</th>\n",
       "      <th>body</th>\n",
       "      <th>home.dest</th>\n",
       "    </tr>\n",
       "  </thead>\n",
       "  <tbody>\n",
       "    <tr>\n",
       "      <th>0</th>\n",
       "      <td>1</td>\n",
       "      <td>1</td>\n",
       "      <td>Allen, Miss. Elisabeth Walton</td>\n",
       "      <td>female</td>\n",
       "      <td>29.0000</td>\n",
       "      <td>0</td>\n",
       "      <td>0</td>\n",
       "      <td>24160</td>\n",
       "      <td>211.3375</td>\n",
       "      <td>B5</td>\n",
       "      <td>S</td>\n",
       "      <td>2</td>\n",
       "      <td>NaN</td>\n",
       "      <td>St Louis, MO</td>\n",
       "    </tr>\n",
       "    <tr>\n",
       "      <th>1</th>\n",
       "      <td>1</td>\n",
       "      <td>1</td>\n",
       "      <td>Allison, Master. Hudson Trevor</td>\n",
       "      <td>male</td>\n",
       "      <td>0.9167</td>\n",
       "      <td>1</td>\n",
       "      <td>2</td>\n",
       "      <td>113781</td>\n",
       "      <td>151.5500</td>\n",
       "      <td>C22 C26</td>\n",
       "      <td>S</td>\n",
       "      <td>11</td>\n",
       "      <td>NaN</td>\n",
       "      <td>Montreal, PQ / Chesterville, ON</td>\n",
       "    </tr>\n",
       "    <tr>\n",
       "      <th>2</th>\n",
       "      <td>1</td>\n",
       "      <td>0</td>\n",
       "      <td>Allison, Miss. Helen Loraine</td>\n",
       "      <td>female</td>\n",
       "      <td>2.0000</td>\n",
       "      <td>1</td>\n",
       "      <td>2</td>\n",
       "      <td>113781</td>\n",
       "      <td>151.5500</td>\n",
       "      <td>C22 C26</td>\n",
       "      <td>S</td>\n",
       "      <td>NaN</td>\n",
       "      <td>NaN</td>\n",
       "      <td>Montreal, PQ / Chesterville, ON</td>\n",
       "    </tr>\n",
       "    <tr>\n",
       "      <th>3</th>\n",
       "      <td>1</td>\n",
       "      <td>0</td>\n",
       "      <td>Allison, Mr. Hudson Joshua Creighton</td>\n",
       "      <td>male</td>\n",
       "      <td>30.0000</td>\n",
       "      <td>1</td>\n",
       "      <td>2</td>\n",
       "      <td>113781</td>\n",
       "      <td>151.5500</td>\n",
       "      <td>C22 C26</td>\n",
       "      <td>S</td>\n",
       "      <td>NaN</td>\n",
       "      <td>135.0</td>\n",
       "      <td>Montreal, PQ / Chesterville, ON</td>\n",
       "    </tr>\n",
       "    <tr>\n",
       "      <th>4</th>\n",
       "      <td>1</td>\n",
       "      <td>0</td>\n",
       "      <td>Allison, Mrs. Hudson J C (Bessie Waldo Daniels)</td>\n",
       "      <td>female</td>\n",
       "      <td>25.0000</td>\n",
       "      <td>1</td>\n",
       "      <td>2</td>\n",
       "      <td>113781</td>\n",
       "      <td>151.5500</td>\n",
       "      <td>C22 C26</td>\n",
       "      <td>S</td>\n",
       "      <td>NaN</td>\n",
       "      <td>NaN</td>\n",
       "      <td>Montreal, PQ / Chesterville, ON</td>\n",
       "    </tr>\n",
       "  </tbody>\n",
       "</table>\n",
       "</div>"
      ],
      "text/plain": [
       "   pclass  survived                                             name     sex  \\\n",
       "0       1         1                    Allen, Miss. Elisabeth Walton  female   \n",
       "1       1         1                   Allison, Master. Hudson Trevor    male   \n",
       "2       1         0                     Allison, Miss. Helen Loraine  female   \n",
       "3       1         0             Allison, Mr. Hudson Joshua Creighton    male   \n",
       "4       1         0  Allison, Mrs. Hudson J C (Bessie Waldo Daniels)  female   \n",
       "\n",
       "       age  sibsp  parch  ticket      fare    cabin embarked boat   body  \\\n",
       "0  29.0000      0      0   24160  211.3375       B5        S    2    NaN   \n",
       "1   0.9167      1      2  113781  151.5500  C22 C26        S   11    NaN   \n",
       "2   2.0000      1      2  113781  151.5500  C22 C26        S  NaN    NaN   \n",
       "3  30.0000      1      2  113781  151.5500  C22 C26        S  NaN  135.0   \n",
       "4  25.0000      1      2  113781  151.5500  C22 C26        S  NaN    NaN   \n",
       "\n",
       "                         home.dest  \n",
       "0                     St Louis, MO  \n",
       "1  Montreal, PQ / Chesterville, ON  \n",
       "2  Montreal, PQ / Chesterville, ON  \n",
       "3  Montreal, PQ / Chesterville, ON  \n",
       "4  Montreal, PQ / Chesterville, ON  "
      ]
     },
     "execution_count": 3,
     "metadata": {},
     "output_type": "execute_result"
    }
   ],
   "source": [
    "df.head()"
   ]
  },
  {
   "cell_type": "code",
   "execution_count": 5,
   "id": "8b550d8a-3898-4747-a231-f67a71e3bb4a",
   "metadata": {},
   "outputs": [
    {
     "name": "stdout",
     "output_type": "stream",
     "text": [
      "<class 'pandas.core.frame.DataFrame'>\n",
      "RangeIndex: 1309 entries, 0 to 1308\n",
      "Data columns (total 14 columns):\n",
      " #   Column     Non-Null Count  Dtype  \n",
      "---  ------     --------------  -----  \n",
      " 0   pclass     1309 non-null   int64  \n",
      " 1   survived   1309 non-null   int64  \n",
      " 2   name       1309 non-null   object \n",
      " 3   sex        1309 non-null   object \n",
      " 4   age        1046 non-null   float64\n",
      " 5   sibsp      1309 non-null   int64  \n",
      " 6   parch      1309 non-null   int64  \n",
      " 7   ticket     1309 non-null   object \n",
      " 8   fare       1308 non-null   float64\n",
      " 9   cabin      295 non-null    object \n",
      " 10  embarked   1307 non-null   object \n",
      " 11  boat       486 non-null    object \n",
      " 12  body       121 non-null    float64\n",
      " 13  home.dest  745 non-null    object \n",
      "dtypes: float64(3), int64(4), object(7)\n",
      "memory usage: 143.3+ KB\n"
     ]
    }
   ],
   "source": [
    "df.info()"
   ]
  },
  {
   "cell_type": "code",
   "execution_count": 7,
   "id": "c2901844-38f6-43ef-8cd6-3d1336892b6f",
   "metadata": {},
   "outputs": [
    {
     "data": {
      "text/html": [
       "<div>\n",
       "<style scoped>\n",
       "    .dataframe tbody tr th:only-of-type {\n",
       "        vertical-align: middle;\n",
       "    }\n",
       "\n",
       "    .dataframe tbody tr th {\n",
       "        vertical-align: top;\n",
       "    }\n",
       "\n",
       "    .dataframe thead th {\n",
       "        text-align: right;\n",
       "    }\n",
       "</style>\n",
       "<table border=\"1\" class=\"dataframe\">\n",
       "  <thead>\n",
       "    <tr style=\"text-align: right;\">\n",
       "      <th></th>\n",
       "      <th>pclass</th>\n",
       "      <th>survived</th>\n",
       "      <th>age</th>\n",
       "      <th>sibsp</th>\n",
       "      <th>parch</th>\n",
       "      <th>fare</th>\n",
       "      <th>body</th>\n",
       "    </tr>\n",
       "  </thead>\n",
       "  <tbody>\n",
       "    <tr>\n",
       "      <th>count</th>\n",
       "      <td>1309.000000</td>\n",
       "      <td>1309.000000</td>\n",
       "      <td>1046.000000</td>\n",
       "      <td>1309.000000</td>\n",
       "      <td>1309.000000</td>\n",
       "      <td>1308.000000</td>\n",
       "      <td>121.000000</td>\n",
       "    </tr>\n",
       "    <tr>\n",
       "      <th>mean</th>\n",
       "      <td>2.294882</td>\n",
       "      <td>0.381971</td>\n",
       "      <td>29.881135</td>\n",
       "      <td>0.498854</td>\n",
       "      <td>0.385027</td>\n",
       "      <td>33.295479</td>\n",
       "      <td>160.809917</td>\n",
       "    </tr>\n",
       "    <tr>\n",
       "      <th>std</th>\n",
       "      <td>0.837836</td>\n",
       "      <td>0.486055</td>\n",
       "      <td>14.413500</td>\n",
       "      <td>1.041658</td>\n",
       "      <td>0.865560</td>\n",
       "      <td>51.758668</td>\n",
       "      <td>97.696922</td>\n",
       "    </tr>\n",
       "    <tr>\n",
       "      <th>min</th>\n",
       "      <td>1.000000</td>\n",
       "      <td>0.000000</td>\n",
       "      <td>0.166700</td>\n",
       "      <td>0.000000</td>\n",
       "      <td>0.000000</td>\n",
       "      <td>0.000000</td>\n",
       "      <td>1.000000</td>\n",
       "    </tr>\n",
       "    <tr>\n",
       "      <th>25%</th>\n",
       "      <td>2.000000</td>\n",
       "      <td>0.000000</td>\n",
       "      <td>21.000000</td>\n",
       "      <td>0.000000</td>\n",
       "      <td>0.000000</td>\n",
       "      <td>7.895800</td>\n",
       "      <td>72.000000</td>\n",
       "    </tr>\n",
       "    <tr>\n",
       "      <th>50%</th>\n",
       "      <td>3.000000</td>\n",
       "      <td>0.000000</td>\n",
       "      <td>28.000000</td>\n",
       "      <td>0.000000</td>\n",
       "      <td>0.000000</td>\n",
       "      <td>14.454200</td>\n",
       "      <td>155.000000</td>\n",
       "    </tr>\n",
       "    <tr>\n",
       "      <th>75%</th>\n",
       "      <td>3.000000</td>\n",
       "      <td>1.000000</td>\n",
       "      <td>39.000000</td>\n",
       "      <td>1.000000</td>\n",
       "      <td>0.000000</td>\n",
       "      <td>31.275000</td>\n",
       "      <td>256.000000</td>\n",
       "    </tr>\n",
       "    <tr>\n",
       "      <th>max</th>\n",
       "      <td>3.000000</td>\n",
       "      <td>1.000000</td>\n",
       "      <td>80.000000</td>\n",
       "      <td>8.000000</td>\n",
       "      <td>9.000000</td>\n",
       "      <td>512.329200</td>\n",
       "      <td>328.000000</td>\n",
       "    </tr>\n",
       "  </tbody>\n",
       "</table>\n",
       "</div>"
      ],
      "text/plain": [
       "            pclass     survived          age        sibsp        parch  \\\n",
       "count  1309.000000  1309.000000  1046.000000  1309.000000  1309.000000   \n",
       "mean      2.294882     0.381971    29.881135     0.498854     0.385027   \n",
       "std       0.837836     0.486055    14.413500     1.041658     0.865560   \n",
       "min       1.000000     0.000000     0.166700     0.000000     0.000000   \n",
       "25%       2.000000     0.000000    21.000000     0.000000     0.000000   \n",
       "50%       3.000000     0.000000    28.000000     0.000000     0.000000   \n",
       "75%       3.000000     1.000000    39.000000     1.000000     0.000000   \n",
       "max       3.000000     1.000000    80.000000     8.000000     9.000000   \n",
       "\n",
       "              fare        body  \n",
       "count  1308.000000  121.000000  \n",
       "mean     33.295479  160.809917  \n",
       "std      51.758668   97.696922  \n",
       "min       0.000000    1.000000  \n",
       "25%       7.895800   72.000000  \n",
       "50%      14.454200  155.000000  \n",
       "75%      31.275000  256.000000  \n",
       "max     512.329200  328.000000  "
      ]
     },
     "execution_count": 7,
     "metadata": {},
     "output_type": "execute_result"
    }
   ],
   "source": [
    "df.describe()"
   ]
  },
  {
   "cell_type": "code",
   "execution_count": 8,
   "id": "884eea9e-bbcc-4911-ac6d-aeaac895c786",
   "metadata": {},
   "outputs": [
    {
     "data": {
      "text/html": [
       "<div>\n",
       "<style scoped>\n",
       "    .dataframe tbody tr th:only-of-type {\n",
       "        vertical-align: middle;\n",
       "    }\n",
       "\n",
       "    .dataframe tbody tr th {\n",
       "        vertical-align: top;\n",
       "    }\n",
       "\n",
       "    .dataframe thead th {\n",
       "        text-align: right;\n",
       "    }\n",
       "</style>\n",
       "<table border=\"1\" class=\"dataframe\">\n",
       "  <thead>\n",
       "    <tr style=\"text-align: right;\">\n",
       "      <th></th>\n",
       "      <th>Total</th>\n",
       "      <th>%</th>\n",
       "    </tr>\n",
       "  </thead>\n",
       "  <tbody>\n",
       "    <tr>\n",
       "      <th>body</th>\n",
       "      <td>1188</td>\n",
       "      <td>90.8</td>\n",
       "    </tr>\n",
       "    <tr>\n",
       "      <th>cabin</th>\n",
       "      <td>1014</td>\n",
       "      <td>77.5</td>\n",
       "    </tr>\n",
       "    <tr>\n",
       "      <th>boat</th>\n",
       "      <td>823</td>\n",
       "      <td>62.9</td>\n",
       "    </tr>\n",
       "    <tr>\n",
       "      <th>home.dest</th>\n",
       "      <td>564</td>\n",
       "      <td>43.1</td>\n",
       "    </tr>\n",
       "    <tr>\n",
       "      <th>age</th>\n",
       "      <td>263</td>\n",
       "      <td>20.1</td>\n",
       "    </tr>\n",
       "  </tbody>\n",
       "</table>\n",
       "</div>"
      ],
      "text/plain": [
       "           Total     %\n",
       "body        1188  90.8\n",
       "cabin       1014  77.5\n",
       "boat         823  62.9\n",
       "home.dest    564  43.1\n",
       "age          263  20.1"
      ]
     },
     "execution_count": 8,
     "metadata": {},
     "output_type": "execute_result"
    }
   ],
   "source": [
    "total = df.isnull().sum().sort_values(ascending=False) #Tìm trong dữ liệu giá null, tính tổng chúng lại, sắp xếp theo tăng dần  = False tức là sắp giảm\n",
    "percent_1=df.isnull().sum()/df.isnull().count()*100 #Tổng giá trị null của một cột/ số dòng của cột null đó \n",
    "percent_2 = (round(percent_1,1)).sort_values(ascending = False) #Làm tròn 1 chữ số và sort giảm dần\n",
    "missing_data = pd.concat([total,percent_2],axis=1,keys=['Total','%'])\n",
    "missing_data.head(5)"
   ]
  },
  {
   "cell_type": "code",
   "execution_count": 14,
   "id": "19411e73-b705-43ee-92fa-31264509b5d9",
   "metadata": {},
   "outputs": [
    {
     "data": {
      "image/png": "[encoded data removed]",
      "text/plain": [
       "<Figure size 1000x400 with 2 Axes>"
      ]
     },
     "metadata": {},
     "output_type": "display_data"
    }
   ],
   "source": [
    "# Xem xét thống kê giữa thuộc tính Độ tuổi (age), Giới tính (sex) và khả năng sống sót (survived)\n",
    "survived = 'survided'\n",
    "not_survived ='not survided'\n",
    "fig, axes = plt.subplots(nrows = 1,ncols =2,figsize = (10,4))\n",
    "women = df[df['sex']=='female']\n",
    "men = df[df['sex']=='male']\n",
    "ax = sns.distplot(women[women['survived']==1].age.dropna(), bins = 18,label =survived, ax =axes[0],kde = False)\n",
    "ax = sns.distplot(women[women['survived']==0].age.dropna(), bins = 40,label =not_survived, ax =axes[0],kde = False)\n",
    "ax.legend()\n",
    "ax.set_title('Female')\n",
    "ax = sns.distplot(men[men['survived']==1].age.dropna(), bins = 18,label =survived, ax =axes[1],kde = False)\n",
    "ax = sns.distplot(men[men['survived']==0].age.dropna(), bins = 40,label =not_survived, ax =axes[1],kde = False)\n",
    "ax.legend()\n",
    "_=ax.set_title('Male')"
   ]
  },
  {
   "cell_type": "raw",
   "id": "e44e27e2-9a44-4e0c-92b4-6589e28d92b7",
   "metadata": {},
   "source": [
    "Từ biểu đồ trên có thể rút ra vài nhận xét như sau:\n",
    "• Xác suất nam sống sót cao ở tuổi từ 1 đến 10\n",
    "• Cơ hội sống sót của nữ cao hơn từ 12 đến 40 tuổi\n",
    "• Xác suất nam không sống sót cao nhất ở độ tuổi từ 18 đến 27.\n",
    "• Nhìn chung tỷ lệ sống sót của nữ ở các lứa tuổi đều có phần nhỉnh hơn nam"
   ]
  },
  {
   "cell_type": "code",
   "execution_count": 15,
   "id": "d27710c5-721c-4e96-897f-9734e2670dcc",
   "metadata": {},
   "outputs": [
    {
     "data": {
      "text/plain": [
       "<seaborn.axisgrid.FacetGrid at 0x1511831b5c0>"
      ]
     },
     "execution_count": 15,
     "metadata": {},
     "output_type": "execute_result"
    },
    {
     "data": {
      "image/png": "[encoded data removed]",
      "text/plain": [
       "<Figure size 818x1350 with 3 Axes>"
      ]
     },
     "metadata": {},
     "output_type": "display_data"
    }
   ],
   "source": [
    "# Xem xét thống kê giữa thuộc tính Cổng lên tàu (embarked) và loại vé (pclass) với\n",
    "# khả năng sống sót (survived), phân biệt theo Giới tính (sex).\n",
    "FacetGrid = sns.FacetGrid(df,row='embarked',height =4.5, aspect =1.6)\n",
    "FacetGrid.map(sns.pointplot,'pclass','survived','sex',palette = None, order =None, hue_order = None)\n",
    "FacetGrid.add_legend()"
   ]
  },
  {
   "cell_type": "code",
   "execution_count": 16,
   "id": "6ba17f3e-152d-4ab9-b1c3-555d4862cd5c",
   "metadata": {},
   "outputs": [
    {
     "data": {
      "text/plain": [
       "<Axes: xlabel='pclass', ylabel='survived'>"
      ]
     },
     "execution_count": 16,
     "metadata": {},
     "output_type": "execute_result"
    },
    {
     "data": {
      "image/png": "[encoded data removed]",
      "text/plain": [
       "<Figure size 640x480 with 1 Axes>"
      ]
     },
     "metadata": {},
     "output_type": "display_data"
    }
   ],
   "source": [
    "sns.barplot(x='pclass',y='survived',data=df)"
   ]
  },
  {
   "cell_type": "code",
   "execution_count": 19,
   "id": "7657d524-a0e0-452a-bcf2-3d29e7075c01",
   "metadata": {},
   "outputs": [
    {
     "data": {
      "text/plain": [
       "<seaborn.axisgrid.FacetGrid at 0x1511962e630>"
      ]
     },
     "execution_count": 19,
     "metadata": {},
     "output_type": "execute_result"
    },
    {
     "data": {
      "image/png": "[encoded data removed]",
      "text/plain": [
       "<Figure size 1355.11x1260 with 6 Axes>"
      ]
     },
     "metadata": {},
     "output_type": "display_data"
    }
   ],
   "source": [
    "grid = sns.FacetGrid(df,col='survived',row = 'pclass', height =4.2,aspect=1.6)\n",
    "grid.map(plt.hist,'age',alpha=.5,bins=20)\n",
    "grid.add_legend()"
   ]
  },
  {
   "cell_type": "code",
   "execution_count": 20,
   "id": "65c6ff94-bc31-45b2-bde0-80fc8b245a65",
   "metadata": {},
   "outputs": [
    {
     "data": {
      "text/plain": [
       "not_alone\n",
       "1    790\n",
       "0    519\n",
       "Name: count, dtype: int64"
      ]
     },
     "execution_count": 20,
     "metadata": {},
     "output_type": "execute_result"
    }
   ],
   "source": [
    "# Thống kê số người đi cùng (anh chị em/vợ chồng hoặc cha mẹ/con cái)\n",
    "for dataset in [df]:\n",
    "    dataset['relatives']= dataset['sibsp']+dataset['parch']\n",
    "    dataset.loc[dataset['relatives']>0,'not_alone']=0\n",
    "    dataset.loc[dataset['relatives']==0,'not_alone']=1\n",
    "    dataset['not_alone']= dataset['not_alone'].astype(int)\n",
    "df['not_alone'].value_counts()"
   ]
  },
  {
   "cell_type": "markdown",
   "id": "e5fbfb21-af1e-4259-87a3-4261e637850a",
   "metadata": {},
   "source": [
    "Số người đi một mình là 790 người\n",
    "Số người đi cùng người thân là 519 người"
   ]
  },
  {
   "cell_type": "code",
   "execution_count": 27,
   "id": "43e8a75c-4be1-4790-bcf3-93ac008997bd",
   "metadata": {},
   "outputs": [
    {
     "data": {
      "image/png": "[encoded data removed]",
      "text/plain": [
       "<Figure size 1250x500 with 1 Axes>"
      ]
     },
     "metadata": {},
     "output_type": "display_data"
    }
   ],
   "source": [
    "# Vẽ biểu đồ biểu diễn mối quan hệ giữa số người đi cùng và khả năng sống sót\n",
    "axes = sns.catplot(x = 'relatives',y = 'survived',data=df,aspect=2.5,kind='point',)"
   ]
  },
  {
   "cell_type": "markdown",
   "id": "d5202e8d-fbd6-4367-beb3-e805a8d5d9e8",
   "metadata": {},
   "source": [
    "Sơ đồ trên cho ta thấy, những người có 1 đến 3 người thân đi cùng có tỉ lệ sống sót cao\n",
    "hơn. Những người có 7 đến 10 người thân đi cùng thì có tỉ lệ sống thấp nhất."
   ]
  },
  {
   "cell_type": "markdown",
   "id": "c2a7f7ff-836c-41e2-8a59-8a8fc8bbf097",
   "metadata": {},
   "source": [
    "### Tiền xử lý dữ liệu"
   ]
  },
  {
   "cell_type": "raw",
   "id": "adbc44bb-2451-4e55-aac6-f5e077813bcd",
   "metadata": {},
   "source": [
    "Đầu tiên, tiến hành xem xét các thuộc tính thiếu sót nhiều giá trị. Có thể xóa đi các thuộc tính body, cabin, boat, home.dest vì không có ảnh hưởng nhiều đến sự tồn tại của hành khách. Tuy nhiên, mỗi giá trị của thuộc tính cabin ví dụ như ‘C123’ có các ký tự đầu ‘C’ là boong mà hành khách đó đang đi. Dữ liệu này có thể hữu ích nên có thể tách ra, giữ lại trước khi xóa."
   ]
  },
  {
   "cell_type": "code",
   "execution_count": 28,
   "id": "61c10f79-4067-4065-81f0-8a8e294223f4",
   "metadata": {},
   "outputs": [],
   "source": [
    "import re\n",
    "\n",
    "deck = {\"A\":1,\"B\":2,\"C\":3,\"D\":4,\"E\":5,\"F\":6,\"G\":7,\"U\":8}\n",
    "\n",
    "for dataset in [df]:\n",
    "    dataset['cabin']= dataset['cabin'].fillna(\"U0\") #Điền \"U0\" vào những ô trống\n",
    "    dataset['deck'] = dataset['cabin'].map(lambda x: re.compile(\"([a-zA-Z])+\").search(x).group())\n",
    "    dataset['deck'] = dataset['deck'].map(deck)\n",
    "    dataset['deck'] = dataset['deck'].fillna(0)\n",
    "    dataset['deck'] = dataset['deck'].astype(int) #đổi kiểu dữ liệu int\n",
    "#drop cabin\n",
    "df = df.drop(['cabin'],axis =1)"
   ]
  },
  {
   "cell_type": "code",
   "execution_count": 29,
   "id": "e6d438e7-4330-4655-86d5-2704d17de457",
   "metadata": {},
   "outputs": [
    {
     "data": {
      "text/plain": [
       "count         1309\n",
       "unique         929\n",
       "top       CA. 2343\n",
       "freq            11\n",
       "Name: ticket, dtype: object"
      ]
     },
     "execution_count": 29,
     "metadata": {},
     "output_type": "execute_result"
    }
   ],
   "source": [
    "df['ticket'].describe()"
   ]
  },
  {
   "cell_type": "markdown",
   "id": "f785805f-c139-4e2f-b98a-0eaa6acb7e6e",
   "metadata": {},
   "source": [
    "Có thể thấy thuộc tính ticket có đến 929 giá trị khác nhau, có khả năng thuộc tính này sẽ không giúp ích được trong quá trình khai thác, ngược lại còn gây sai số cho thuật toán nên có thể xóa nó đi.\n",
    "\n",
    "Thực hiện xóa các thuộc tính không cần thiết."
   ]
  },
  {
   "cell_type": "code",
   "execution_count": 30,
   "id": "ada508dd-1263-43b8-a0ea-341b2fa0a6d4",
   "metadata": {},
   "outputs": [],
   "source": [
    "df=df.drop(['ticket'],axis=1)\n",
    "df= df.drop(['boat'],axis=1)\n",
    "df=df.drop(['body'],axis=1)\n",
    "df=df.drop(['home.dest'],axis=1)"
   ]
  },
  {
   "cell_type": "markdown",
   "id": "c4e5563e-0338-48a6-90d9-d381ab497ae6",
   "metadata": {},
   "source": [
    "Điền giá trị còn thiếu vào thuộc tính tuổi (age).\n",
    "Các giá trị này sẽ được sinh ngẫu nhiên dựa vào giá trị trung bình, độ lệch chuẩn và số các giá trị còn thiếu."
   ]
  },
  {
   "cell_type": "code",
   "execution_count": 31,
   "id": "f590f57e-94e0-45d0-9689-26828986d0f8",
   "metadata": {},
   "outputs": [
    {
     "data": {
      "text/plain": [
       "0"
      ]
     },
     "execution_count": 31,
     "metadata": {},
     "output_type": "execute_result"
    }
   ],
   "source": [
    "for dataset in [df]:\n",
    "    #Tính trung bình tuổi\n",
    "    mean = df[\"age\"].mean() \n",
    "    #Tính độ lệch chuẩn tuổi\n",
    "    std = df[\"age\"].std() \n",
    "    is_null = dataset[\"age\"].isnull().sum()\n",
    "    rand_age = np.random.randint(mean-std,mean+std,size=is_null)\n",
    "    #Điền giá trị NAN vào cột tuổi với các giá trị ngẫu nhiên\n",
    "    age_slice  = dataset[\"age\"].copy()\n",
    "    age_slice[np.isnan(age_slice)]= rand_age\n",
    "    dataset[\"age\"]=age_slice\n",
    "    dataset[\"age\"]=df[\"age\"].astype(int)\n",
    "df[\"age\"].isnull().sum() \n"
   ]
  },
  {
   "cell_type": "markdown",
   "id": "6347bf1f-c0ba-4a5c-9abb-a30bdd059f9c",
   "metadata": {},
   "source": [
    "Điền giá trị còn thiếu vào thuộc tính Cổng lên tàu (embarked)\n",
    "Xem xét thông tin về thuộc tính này"
   ]
  },
  {
   "cell_type": "code",
   "execution_count": 32,
   "id": "e5cac3da-7451-4edb-9a64-4c35d763d2d2",
   "metadata": {},
   "outputs": [
    {
     "data": {
      "text/plain": [
       "count     1307\n",
       "unique       3\n",
       "top          S\n",
       "freq       914\n",
       "Name: embarked, dtype: object"
      ]
     },
     "execution_count": 32,
     "metadata": {},
     "output_type": "execute_result"
    }
   ],
   "source": [
    "df['embarked'].describe()"
   ]
  },
  {
   "cell_type": "markdown",
   "id": "0596b2c7-b667-44ea-a8fa-3de88d652325",
   "metadata": {},
   "source": [
    "Ta thấy, giá trị ‘S’ là phổ biến nhất, nên có thể chọn nó đề điền vào các vị trí còn trống."
   ]
  },
  {
   "cell_type": "code",
   "execution_count": 33,
   "id": "bdd8ffa6-fa82-4db9-85f2-f3747c2c4c22",
   "metadata": {},
   "outputs": [],
   "source": [
    "common_value='S'\n",
    "\n",
    "for dataset in [df]:\n",
    "    dataset['embarked'] = dataset['embarked'].fillna(common_value)"
   ]
  },
  {
   "cell_type": "markdown",
   "id": "87804740-2671-4f5c-854d-08c79eddafe9",
   "metadata": {},
   "source": [
    " ## Xem lại các thuộc tính"
   ]
  },
  {
   "cell_type": "code",
   "execution_count": 34,
   "id": "493cd780-549d-41bf-8580-aee5d3f1467a",
   "metadata": {},
   "outputs": [
    {
     "name": "stdout",
     "output_type": "stream",
     "text": [
      "<class 'pandas.core.frame.DataFrame'>\n",
      "RangeIndex: 1309 entries, 0 to 1308\n",
      "Data columns (total 12 columns):\n",
      " #   Column     Non-Null Count  Dtype  \n",
      "---  ------     --------------  -----  \n",
      " 0   pclass     1309 non-null   int64  \n",
      " 1   survived   1309 non-null   int64  \n",
      " 2   name       1309 non-null   object \n",
      " 3   sex        1309 non-null   object \n",
      " 4   age        1309 non-null   int32  \n",
      " 5   sibsp      1309 non-null   int64  \n",
      " 6   parch      1309 non-null   int64  \n",
      " 7   fare       1308 non-null   float64\n",
      " 8   embarked   1309 non-null   object \n",
      " 9   relatives  1309 non-null   int64  \n",
      " 10  not_alone  1309 non-null   int32  \n",
      " 11  deck       1309 non-null   int32  \n",
      "dtypes: float64(1), int32(3), int64(5), object(3)\n",
      "memory usage: 107.5+ KB\n"
     ]
    }
   ],
   "source": [
    "df.info()"
   ]
  },
  {
   "cell_type": "code",
   "execution_count": 35,
   "id": "77767cca-b122-462f-bcd2-317f53b4d06e",
   "metadata": {},
   "outputs": [],
   "source": [
    "for dataset in [df]:\n",
    "    dataset['fare']=dataset['fare'].fillna(0)\n",
    "    dataset['fare']=dataset['fare'].astype(int)"
   ]
  },
  {
   "cell_type": "markdown",
   "id": "96c7e094-096b-4dd5-9344-42ba5e72c22f",
   "metadata": {},
   "source": [
    "Đối với thuộc tính tên (name), có thể sẽ trích xuất danh hiệu (title) từ thuộc tính này để xây dựng thuộc tính mới."
   ]
  },
  {
   "cell_type": "code",
   "execution_count": 36,
   "id": "d685acd7-ac68-479b-aa2b-7a93b72749e3",
   "metadata": {},
   "outputs": [],
   "source": [
    "titles ={\"Mr\":1, \"Miss\":2, \"Mrs\":3, \"Master\":4,\"Rare\":5}\n",
    "\n",
    "for dataset in [df]:\n",
    "    dataset['title'] = dataset.name.str.extract('([A-Za-z]+)\\.',expand=False)\n",
    "    dataset['title'] = dataset['title'].replace(['Lady','Countess','Capt','Col','Don','Dr',\\\n",
    "                                                'Major','Rev','Sir','Jonkheer','Done'],'Rare')\n",
    "    dataset['title'] = dataset['title'].replace('Mlle','Miss')\n",
    "    dataset['title'] = dataset['title'].replace('Ms','Miss')\n",
    "    dataset['title'] = dataset['title'].replace('Mme','Mrs')\n",
    "    #convert\n",
    "    dataset['title']=dataset['title'].map(titles)\n",
    "    #filling NaNy with 0\n",
    "    dataset['title']=dataset['title'].fillna(0)\n",
    "df =df.drop(['name'],axis=1)"
   ]
  },
  {
   "cell_type": "markdown",
   "id": "783ffddc-b3e4-451d-9409-f8cc7b6d9e16",
   "metadata": {},
   "source": [
    "Biểu diễn thuộc tính giới tính (sex) thành các giá trị 0 (nam), 1 (nữ)"
   ]
  },
  {
   "cell_type": "code",
   "execution_count": 37,
   "id": "e270d95f-e9d2-4db6-bb31-acacf945dd67",
   "metadata": {},
   "outputs": [],
   "source": [
    "genders ={\"male\":0,\"female\":1}\n",
    "\n",
    "for dataset in [df]:\n",
    "    dataset['sex']=dataset['sex'].map(genders)"
   ]
  },
  {
   "cell_type": "markdown",
   "id": "4c280391-dc14-4c5f-89fe-2ae139f6b0fb",
   "metadata": {},
   "source": [
    "Chuyển đổi thuộc tính cổng lên tàu (embarked) thành số"
   ]
  },
  {
   "cell_type": "code",
   "execution_count": 38,
   "id": "35f5550d-9db4-4a85-a4da-7937797a2929",
   "metadata": {},
   "outputs": [],
   "source": [
    "ports = {\"S\":0,\"C\":1,\"Q\":2}\n",
    "\n",
    "for dataset in [df]:\n",
    "    dataset['embarked']= dataset['embarked'].map(ports)"
   ]
  },
  {
   "cell_type": "markdown",
   "id": "231d5a41-c75b-4515-a16c-725b343e74cb",
   "metadata": {},
   "source": [
    "Chuyển đổi thuộc tính tuổi (age) về kiểu số nguyên và tạo ra các nhóm tuổi chia giá trị tuổi thành 8 nhóm nhỏ có số lượng hành khách tương đối đều nhau:\n",
    "\n",
    "- Nhóm 1: dưới 11 tuổi\n",
    "- Nhóm 2: trên 11 tuổi đến 18 tuổi\n",
    "- Nhóm 3: trên 18 tuổi đến 22 tuổi\n",
    "- Nhóm 4: trên 22 tuổi đến 27 tuổi\n",
    "- Nhóm 5: trên 27 tuổi đến 33 tuổi\n",
    "- Nhóm 6: trên 33 tuổi đến 40 tuổi\n",
    "- Nhóm 7: trên 40 tuổi đến 66 tuổi\n",
    "- Nhóm 8: trên 66 tuổi"
   ]
  },
  {
   "cell_type": "code",
   "execution_count": 39,
   "id": "bb7fc2b4-2779-4832-b056-4b0fd0a677bd",
   "metadata": {},
   "outputs": [],
   "source": [
    "for dataset in [df]:\n",
    "    dataset['age']=dataset['age'].astype(int)\n",
    "    dataset.loc[dataset['age']<=11,'age']=0\n",
    "    dataset.loc[(dataset['age']>11) & (dataset['age']<=18),'age']=1\n",
    "    dataset.loc[(dataset['age']>18) & (dataset['age']<=22),'age']=2\n",
    "    dataset.loc[(dataset['age']>22) & (dataset['age']<=27),'age']=3\n",
    "    dataset.loc[(dataset['age']>27) & (dataset['age']<=33),'age']=4\n",
    "    dataset.loc[(dataset['age']>33) & (dataset['age']<=40),'age']=5\n",
    "    dataset.loc[(dataset['age']>40) & (dataset['age']<=66),'age']=6\n",
    "    dataset.loc[dataset['age']>66,'age']=7"
   ]
  },
  {
   "cell_type": "markdown",
   "id": "1f5ce99b-e25c-4665-986b-64aeb37538c3",
   "metadata": {},
   "source": [
    " Kết quả đạt được"
   ]
  },
  {
   "cell_type": "code",
   "execution_count": 40,
   "id": "3d4ff5bd-8cb0-45ad-96aa-e8172e4545ca",
   "metadata": {},
   "outputs": [
    {
     "data": {
      "text/plain": [
       "age\n",
       "6    251\n",
       "4    242\n",
       "3    214\n",
       "5    196\n",
       "2    171\n",
       "1    135\n",
       "0     91\n",
       "7      9\n",
       "Name: count, dtype: int64"
      ]
     },
     "execution_count": 40,
     "metadata": {},
     "output_type": "execute_result"
    }
   ],
   "source": [
    "df['age'].value_counts()"
   ]
  },
  {
   "cell_type": "markdown",
   "id": "797b454d-2532-4175-af02-70ab97794faa",
   "metadata": {},
   "source": [
    "Đối với thuộc tính giá vé (fare), có thể làm tương tự như đối với thuộc tính tuổi (age). Tuy nhiên, để tránh tình trạng số lượng hành khách tập trung quá nhiều vào một nhóm nào đó, có thể sử dụng hàm qcut() của thư viện sklearn."
   ]
  },
  {
   "cell_type": "code",
   "execution_count": 41,
   "id": "2ed31607-14b7-48ae-bc74-2351666e88bf",
   "metadata": {},
   "outputs": [],
   "source": [
    "for dataset in [df]:\n",
    "    dataset.loc[dataset['fare']<=7.91,'fare']=0\n",
    "    dataset.loc[(dataset['fare']>7.91) & (dataset['fare']<=14.454),'fare']=1\n",
    "    dataset.loc[(dataset['fare']>14.454) & (dataset['fare']<=31),'fare']=2\n",
    "    dataset.loc[(dataset['fare']>31) & (dataset['fare']<=99),'fare']=3\n",
    "    dataset.loc[(dataset['fare']>99) & (dataset['fare']<=250),'fare']=4\n",
    "    dataset.loc[dataset['fare']>250,'fare']=5\n",
    "    dataset['fare']=dataset['fare'].astype(int)"
   ]
  },
  {
   "cell_type": "markdown",
   "id": "6c9f9aa0-52c2-4ac2-ac96-28e44691e107",
   "metadata": {},
   "source": [
    "## Tạo thuộc tính tuổi * loại vé (age_class)"
   ]
  },
  {
   "cell_type": "code",
   "execution_count": 42,
   "id": "52e02ba8-2eb2-436f-93bd-bd5aa00b9868",
   "metadata": {},
   "outputs": [],
   "source": [
    "\n",
    "for dataset in [df]:\n",
    "    dataset['age_class']= dataset['age']*dataset['pclass']"
   ]
  },
  {
   "cell_type": "markdown",
   "id": "7ab12264-91c2-4438-a5a5-4d35eba73cd0",
   "metadata": {},
   "source": [
    "Tạo thuộc tính giá vé trên mỗi người (fare_per_person)"
   ]
  },
  {
   "cell_type": "code",
   "execution_count": 43,
   "id": "2fe4bcc8-d972-4c88-82b0-ea83438a7a73",
   "metadata": {},
   "outputs": [
    {
     "data": {
      "text/html": [
       "<div>\n",
       "<style scoped>\n",
       "    .dataframe tbody tr th:only-of-type {\n",
       "        vertical-align: middle;\n",
       "    }\n",
       "\n",
       "    .dataframe tbody tr th {\n",
       "        vertical-align: top;\n",
       "    }\n",
       "\n",
       "    .dataframe thead th {\n",
       "        text-align: right;\n",
       "    }\n",
       "</style>\n",
       "<table border=\"1\" class=\"dataframe\">\n",
       "  <thead>\n",
       "    <tr style=\"text-align: right;\">\n",
       "      <th></th>\n",
       "      <th>pclass</th>\n",
       "      <th>survived</th>\n",
       "      <th>sex</th>\n",
       "      <th>age</th>\n",
       "      <th>sibsp</th>\n",
       "      <th>parch</th>\n",
       "      <th>fare</th>\n",
       "      <th>embarked</th>\n",
       "      <th>relatives</th>\n",
       "      <th>not_alone</th>\n",
       "      <th>deck</th>\n",
       "      <th>title</th>\n",
       "      <th>age_class</th>\n",
       "      <th>fare_per_person</th>\n",
       "    </tr>\n",
       "  </thead>\n",
       "  <tbody>\n",
       "    <tr>\n",
       "      <th>0</th>\n",
       "      <td>1</td>\n",
       "      <td>1</td>\n",
       "      <td>1</td>\n",
       "      <td>4</td>\n",
       "      <td>0</td>\n",
       "      <td>0</td>\n",
       "      <td>4</td>\n",
       "      <td>0</td>\n",
       "      <td>0</td>\n",
       "      <td>1</td>\n",
       "      <td>2</td>\n",
       "      <td>2.0</td>\n",
       "      <td>4</td>\n",
       "      <td>4</td>\n",
       "    </tr>\n",
       "    <tr>\n",
       "      <th>1</th>\n",
       "      <td>1</td>\n",
       "      <td>1</td>\n",
       "      <td>0</td>\n",
       "      <td>0</td>\n",
       "      <td>1</td>\n",
       "      <td>2</td>\n",
       "      <td>4</td>\n",
       "      <td>0</td>\n",
       "      <td>3</td>\n",
       "      <td>0</td>\n",
       "      <td>3</td>\n",
       "      <td>4.0</td>\n",
       "      <td>0</td>\n",
       "      <td>1</td>\n",
       "    </tr>\n",
       "    <tr>\n",
       "      <th>2</th>\n",
       "      <td>1</td>\n",
       "      <td>0</td>\n",
       "      <td>1</td>\n",
       "      <td>0</td>\n",
       "      <td>1</td>\n",
       "      <td>2</td>\n",
       "      <td>4</td>\n",
       "      <td>0</td>\n",
       "      <td>3</td>\n",
       "      <td>0</td>\n",
       "      <td>3</td>\n",
       "      <td>2.0</td>\n",
       "      <td>0</td>\n",
       "      <td>1</td>\n",
       "    </tr>\n",
       "    <tr>\n",
       "      <th>3</th>\n",
       "      <td>1</td>\n",
       "      <td>0</td>\n",
       "      <td>0</td>\n",
       "      <td>4</td>\n",
       "      <td>1</td>\n",
       "      <td>2</td>\n",
       "      <td>4</td>\n",
       "      <td>0</td>\n",
       "      <td>3</td>\n",
       "      <td>0</td>\n",
       "      <td>3</td>\n",
       "      <td>1.0</td>\n",
       "      <td>4</td>\n",
       "      <td>1</td>\n",
       "    </tr>\n",
       "    <tr>\n",
       "      <th>4</th>\n",
       "      <td>1</td>\n",
       "      <td>0</td>\n",
       "      <td>1</td>\n",
       "      <td>3</td>\n",
       "      <td>1</td>\n",
       "      <td>2</td>\n",
       "      <td>4</td>\n",
       "      <td>0</td>\n",
       "      <td>3</td>\n",
       "      <td>0</td>\n",
       "      <td>3</td>\n",
       "      <td>3.0</td>\n",
       "      <td>3</td>\n",
       "      <td>1</td>\n",
       "    </tr>\n",
       "    <tr>\n",
       "      <th>5</th>\n",
       "      <td>1</td>\n",
       "      <td>1</td>\n",
       "      <td>0</td>\n",
       "      <td>6</td>\n",
       "      <td>0</td>\n",
       "      <td>0</td>\n",
       "      <td>2</td>\n",
       "      <td>0</td>\n",
       "      <td>0</td>\n",
       "      <td>1</td>\n",
       "      <td>5</td>\n",
       "      <td>1.0</td>\n",
       "      <td>6</td>\n",
       "      <td>2</td>\n",
       "    </tr>\n",
       "    <tr>\n",
       "      <th>6</th>\n",
       "      <td>1</td>\n",
       "      <td>1</td>\n",
       "      <td>1</td>\n",
       "      <td>6</td>\n",
       "      <td>1</td>\n",
       "      <td>0</td>\n",
       "      <td>3</td>\n",
       "      <td>0</td>\n",
       "      <td>1</td>\n",
       "      <td>0</td>\n",
       "      <td>4</td>\n",
       "      <td>2.0</td>\n",
       "      <td>6</td>\n",
       "      <td>1</td>\n",
       "    </tr>\n",
       "    <tr>\n",
       "      <th>7</th>\n",
       "      <td>1</td>\n",
       "      <td>0</td>\n",
       "      <td>0</td>\n",
       "      <td>5</td>\n",
       "      <td>0</td>\n",
       "      <td>0</td>\n",
       "      <td>0</td>\n",
       "      <td>0</td>\n",
       "      <td>0</td>\n",
       "      <td>1</td>\n",
       "      <td>1</td>\n",
       "      <td>1.0</td>\n",
       "      <td>5</td>\n",
       "      <td>0</td>\n",
       "    </tr>\n",
       "    <tr>\n",
       "      <th>8</th>\n",
       "      <td>1</td>\n",
       "      <td>1</td>\n",
       "      <td>1</td>\n",
       "      <td>6</td>\n",
       "      <td>2</td>\n",
       "      <td>0</td>\n",
       "      <td>3</td>\n",
       "      <td>0</td>\n",
       "      <td>2</td>\n",
       "      <td>0</td>\n",
       "      <td>3</td>\n",
       "      <td>3.0</td>\n",
       "      <td>6</td>\n",
       "      <td>1</td>\n",
       "    </tr>\n",
       "    <tr>\n",
       "      <th>9</th>\n",
       "      <td>1</td>\n",
       "      <td>0</td>\n",
       "      <td>0</td>\n",
       "      <td>7</td>\n",
       "      <td>0</td>\n",
       "      <td>0</td>\n",
       "      <td>3</td>\n",
       "      <td>1</td>\n",
       "      <td>0</td>\n",
       "      <td>1</td>\n",
       "      <td>8</td>\n",
       "      <td>1.0</td>\n",
       "      <td>7</td>\n",
       "      <td>3</td>\n",
       "    </tr>\n",
       "  </tbody>\n",
       "</table>\n",
       "</div>"
      ],
      "text/plain": [
       "   pclass  survived  sex  age  sibsp  parch  fare  embarked  relatives  \\\n",
       "0       1         1    1    4      0      0     4         0          0   \n",
       "1       1         1    0    0      1      2     4         0          3   \n",
       "2       1         0    1    0      1      2     4         0          3   \n",
       "3       1         0    0    4      1      2     4         0          3   \n",
       "4       1         0    1    3      1      2     4         0          3   \n",
       "5       1         1    0    6      0      0     2         0          0   \n",
       "6       1         1    1    6      1      0     3         0          1   \n",
       "7       1         0    0    5      0      0     0         0          0   \n",
       "8       1         1    1    6      2      0     3         0          2   \n",
       "9       1         0    0    7      0      0     3         1          0   \n",
       "\n",
       "   not_alone  deck  title  age_class  fare_per_person  \n",
       "0          1     2    2.0          4                4  \n",
       "1          0     3    4.0          0                1  \n",
       "2          0     3    2.0          0                1  \n",
       "3          0     3    1.0          4                1  \n",
       "4          0     3    3.0          3                1  \n",
       "5          1     5    1.0          6                2  \n",
       "6          0     4    2.0          6                1  \n",
       "7          1     1    1.0          5                0  \n",
       "8          0     3    3.0          6                1  \n",
       "9          1     8    1.0          7                3  "
      ]
     },
     "execution_count": 43,
     "metadata": {},
     "output_type": "execute_result"
    }
   ],
   "source": [
    "#Thuộc tính giá vé trên mỗi người\n",
    "for dataset in [df]:\n",
    "    dataset['fare_per_person']= dataset['fare']/(dataset['relatives']+1)\n",
    "    dataset['fare_per_person']= dataset['fare_per_person'].astype(int)\n",
    "df.head(10)"
   ]
  },
  {
   "cell_type": "code",
   "execution_count": null,
   "id": "e3913f86-3739-44bc-854f-85f27b666f35",
   "metadata": {},
   "outputs": [],
   "source": []
  }
 ],
 "metadata": {
  "kernelspec": {
   "display_name": "Python 3 (ipykernel)",
   "language": "python",
   "name": "python3"
  },
  "language_info": {
   "codemirror_mode": {
    "name": "ipython",
    "version": 3
   },
   "file_extension": ".py",
   "mimetype": "text/x-python",
   "name": "python",
   "nbconvert_exporter": "python",
   "pygments_lexer": "ipython3",
   "version": "3.11.5"
  }
 },
 "nbformat": 4,
 "nbformat_minor": 5
}
